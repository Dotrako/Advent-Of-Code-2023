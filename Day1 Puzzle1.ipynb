{
 "cells": [
  {
   "cell_type": "code",
   "execution_count": 70,
   "metadata": {},
   "outputs": [
    {
     "name": "stdout",
     "output_type": "stream",
     "text": [
      "['2', '8']\n",
      "28\n",
      "<class 'str'>\n"
     ]
    }
   ],
   "source": [
    "var = \"2seven8gjdgmg\"\n",
    "\n",
    "storage = list() \n",
    "\n",
    "for char in var:\n",
    "    if char.isdigit():\n",
    "        storage += char\n",
    "print(storage)\n",
    "\n",
    "updated_list = \"\".join(storage)\n",
    "\n",
    "print(updated_list)\n",
    "print(type(updated_list))\n",
    "\n",
    "\n",
    "\n",
    "        \n",
    "\n"
   ]
  },
  {
   "cell_type": "code",
   "execution_count": 14,
   "metadata": {},
   "outputs": [
    {
     "name": "stdout",
     "output_type": "stream",
     "text": [
      "The final calibration value for our elf friends is:\n",
      "'53651'\n"
     ]
    }
   ],
   "source": [
    "with open (\"Day1_input.txt\", \"r\") as file:\n",
    "    elf_documents = file.readlines()\n",
    "    sto_list = []\n",
    "\n",
    "    for x in elf_documents:\n",
    "        x = x.strip(\"\\n\")\n",
    "        sto_list.append(x)\n",
    "\n",
    "\n",
    "\n",
    "calibration_value = 0\n",
    "for element in sto_list:\n",
    "    all_num = \"\"\n",
    "    for char in element:\n",
    "        if char.isdigit():\n",
    "            all_num += char\n",
    "    temp_val = \"\"\n",
    "    if len(all_num) > 1:\n",
    "        temp_val = all_num [0]  + all_num [-1]\n",
    "    else:\n",
    "        temp_val = all_num[0] +  all_num [0]      \n",
    "    calibration_value += int(temp_val)\n",
    "print(f\"The final calibration value for our elf friends is:\\n'{calibration_value}'\")\n",
    "\n",
    "\n",
    "\n",
    "\n",
    "\n"
   ]
  },
  {
   "cell_type": "markdown",
   "metadata": {},
   "source": [
    "# Second Puzzle\n",
    "- \"It seems that after I solved the first puzzle, another problem arose: the calibration value is incorrect and needs to be converted. For example, 'five' should be converted to '5'. It's as if the first program did not correctly convert all the numbers.\""
   ]
  },
  {
   "cell_type": "markdown",
   "metadata": {},
   "source": [
    "- I will use the following logic to convert a character string like 'five' to its corresponding digit string '5'."
   ]
  },
  {
   "cell_type": "code",
   "execution_count": 17,
   "metadata": {},
   "outputs": [
    {
     "name": "stdout",
     "output_type": "stream",
     "text": [
      "['5', '6']\n"
     ]
    }
   ],
   "source": [
    "x = [\"five\",\"six\"]\n",
    "\n",
    "for i in range(len(x)):\n",
    "\tif x[i] == \"five\":\n",
    "\t\tx[i] = \"5\"\n",
    "\telif x[i] == \"six\":\n",
    "\t\tx[i] = \"6\"\n",
    "print(x)"
   ]
  }
 ],
 "metadata": {
  "kernelspec": {
   "display_name": "Python 3",
   "language": "python",
   "name": "python3"
  },
  "language_info": {
   "codemirror_mode": {
    "name": "ipython",
    "version": 3
   },
   "file_extension": ".py",
   "mimetype": "text/x-python",
   "name": "python",
   "nbconvert_exporter": "python",
   "pygments_lexer": "ipython3",
   "version": "3.12.0"
  }
 },
 "nbformat": 4,
 "nbformat_minor": 2
}

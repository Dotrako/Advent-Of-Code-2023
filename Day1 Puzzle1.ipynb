{
 "cells": [
  {
   "cell_type": "code",
   "execution_count": 27,
   "metadata": {},
   "outputs": [
    {
     "name": "stdout",
     "output_type": "stream",
     "text": [
      "['2', '8']\n",
      "28\n",
      "<class 'str'>\n"
     ]
    }
   ],
   "source": [
    "var = \"2seven8gjdgmg\"\n",
    "\n",
    "storage = list()\n",
    "\n",
    "for char in var:\n",
    "    if char.isdigit():\n",
    "        storage += char\n",
    "print(storage)\n",
    "\n",
    "updated_list = \"\".join(storage)\n",
    "\n",
    "print(updated_list)\n",
    "print(type(updated_list))\n",
    "\n",
    "\n",
    "\n",
    "        \n",
    "\n"
   ]
  }
 ],
 "metadata": {
  "kernelspec": {
   "display_name": "Python 3",
   "language": "python",
   "name": "python3"
  },
  "language_info": {
   "codemirror_mode": {
    "name": "ipython",
    "version": 3
   },
   "file_extension": ".py",
   "mimetype": "text/x-python",
   "name": "python",
   "nbconvert_exporter": "python",
   "pygments_lexer": "ipython3",
   "version": "3.12.0"
  }
 },
 "nbformat": 4,
 "nbformat_minor": 2
}
